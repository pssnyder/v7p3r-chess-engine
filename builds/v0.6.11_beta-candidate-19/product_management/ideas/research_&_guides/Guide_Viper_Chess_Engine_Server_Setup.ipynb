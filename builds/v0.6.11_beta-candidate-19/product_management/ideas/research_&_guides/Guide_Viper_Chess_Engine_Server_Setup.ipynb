version https://git-lfs.github.com/spec/v1
oid sha256:9ff310df8b56a08f3472fa1d38da11ef96aeb72b7397f87cca8e4b20abb84e3e
size 24323
