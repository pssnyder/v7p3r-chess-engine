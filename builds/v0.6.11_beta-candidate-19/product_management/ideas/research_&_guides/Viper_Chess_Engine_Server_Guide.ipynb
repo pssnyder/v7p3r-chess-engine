version https://git-lfs.github.com/spec/v1
oid sha256:f4f483f405d88b4aa0e653d36f135348a22ec41282577c9876ba3547c13a8dc2
size 24211
