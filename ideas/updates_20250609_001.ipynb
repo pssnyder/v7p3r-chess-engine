{
 "cells": [
  {
   "cell_type": "markdown",
   "metadata": {},
   "source": [
    "# Viper Chess Engine Big Overhaul Project: Primary Update Documentation\n",
    "\n",
    "This document outlines the progress and key updates for the Viper Chess Engine overhaul project. It will serve as the primary documentation for each phase, including progress tracking, unit tests, and visualizations where applicable."
   ]
  },
  {
   "cell_type": "markdown",
   "metadata": {},
   "source": [
    "## Project Outline\n",
    "\n",
    "The project is divided into three main phases, each with specific goals and deliverables."
   ]
  },
  {
   "cell_type": "markdown",
   "metadata": {},
   "source": [
    "### Phase 1: Core Engine Functionality & Data Collection\n",
    "\n",
    "**Objective**: Establish robust core engine functionality and ensure accurate data collection for game analysis.\n",
    "\n",
    "#### Steps:\n",
    "\n",
    "1.  **Update Configuration File Handling**: Modify the codebase to correctly load settings from the new YAML file structure (`viper.yaml`, `chess_game.yaml`, `stockfish_handler.yaml`).\n",
    "2.  **Ensure Automated Game Play**: Verify that `chess_game.py` can run an AI vs. AI game (e.g., Viper vs. Stockfish) using the updated configurations and save game data (PGN, config, logs).\n",
    "3.  **Basic Metrics Collection**: Confirm that essential game metrics (result, players, length, configurations) are being saved."
   ]
  },
  {
   "cell_type": "markdown",
   "metadata": {},
   "source": [
    "### Phase 2: Configuration GUI\n",
    "\n",
    "**Objective**: Develop a user-friendly graphical interface for managing engine and game configurations.\n",
    "\n",
    "#### Steps:\n",
    "\n",
    "1.  **Design Configuration Data Structure**: Determine how configurations will be stored and managed (e.g., a JSON file or a simple database) to allow for saving, loading, and creating new named configurations.\n",
    "2.  **Implement GUI for Viper Settings**: Build out `viper_gui.app.py` (likely using Flask or Streamlit) to:\n",
    "    * Load existing configurations.\n",
    "    * Display current settings from `viper.yaml`.\n",
    "    * Allow users to modify these settings.\n",
    "    * Save changes back to `viper.yaml` or a new named configuration.\n",
    "    * Allow users to select which named configuration is \"active\" for the engine.\n",
    "3.  **Implement GUI for Game Settings**: Extend the GUI to manage settings in `chess_game.yaml`.\n",
    "4.  **Implement GUI for Stockfish Settings**: Extend the GUI to manage settings in `stockfish_handler.yaml`."
   ]
  },
  {
   "cell_type": "markdown",
   "metadata": {},
   "source": [
    "### Phase 3: Engine Monitor and TODOs\n",
    "\n",
    "**Objective**: Refine the engine monitoring dashboard and address outstanding code tasks.\n",
    "\n",
    "#### Steps:\n",
    "\n",
    "1.  **Update `engine_monitor.app.py`**: Refactor the Streamlit dashboard based on TODO notes, focusing on historical analysis and removing real-time/log-based features not relevant to its new scope.\n",
    "2.  **Address Code TODOs**: Systematically go through the codebase, identify all TODO comments, and implement them.\n",
    "3.  **Adaptive ELO (Stretch Goal)**: If time permits and core functionality is stable, begin planning/implementing the adaptive ELO for opponent AI in `chess_game.py`."
   ]
  },
  {
   "cell_type": "markdown",
   "metadata": {},
   "source": [
    "## Phase 1 Progress: Core Engine Functionality & Data Collection\n",
    "\n",
    "### Step 1: Update Configuration File Handling\n",
    "\n",
    "**Current Focus**: Modifying `chess_game.py` to load its configuration from `chess_game.yaml` instead of a general `config.yaml`. Ensuring correct references to `stockfish_handler.yaml` for Stockfish settings and `viper.yaml` for Viper engine parts."
   ]
  },
  {
   "cell_type": "code",
   "execution_count": null,
   "metadata": {},
   "outputs": [],
   "source": [
    "# Code Snippet: Configuration Loading (Initial Implementation/Changes)\n",
    "# This section will contain the actual code modifications related to loading YAML files.\n",
    "# For example:\n",
    "# import yaml\n",
    "\n",
    "# def load_config(filepath):\n",
    "#     with open(filepath, 'r') as file:\n",
    "#         return yaml.safe_load(file)\n",
    "\n",
    "# chess_game_config = load_config('chess_game.yaml')\n",
    "# stockfish_config = load_config('stockfish_handler.yaml')\n",
    "# viper_config = load_config('viper.yaml')\n",
    "\n",
    "# print(\"Chess Game Config:\", chess_game_config)\n",
    "# print(\"Stockfish Config:\", stockfish_config)\n",
    "# print(\"Viper Config:\", viper_config)"
   ]
  },
  {
   "cell_type": "markdown",
   "metadata": {},
   "source": [
    "### Unit Tests for Configuration Handling\n",
    "\n",
    "This section will contain unit tests to verify that the configuration files are loaded correctly and that the settings are accessible as expected."
   ]
  },
  {
   "cell_type": "code",
   "execution_count": null,
   "metadata": {},
   "outputs": [],
   "source": [
    "# Unit Test Snippet: Test Configuration Loading\n",
    "# Example using unittest or pytest:\n",
    "# import unittest\n",
    "# import os\n",
    "\n",
    "# class TestConfigLoading(unittest.TestCase):\n",
    "#     def setUp(self):\n",
    "#         # Create dummy YAML files for testing\n",
    "#         with open('test_chess_game.yaml', 'w') as f:\n",
    "#             f.write('game_mode: ai_vs_ai\\ntime_limit: 60')\n",
    "#         with open('test_stockfish_handler.yaml', 'w') as f:\n",
    "#             f.write('elo: 1500\\npath: /usr/local/bin/stockfish')\n",
    "#         with open('test_viper.yaml', 'w') as f:\n",
    "#             f.write('engine_name: ViperEngine\\nversion: 1.0')\n",
    "\n",
    "#     def tearDown(self):\n",
    "#         # Clean up dummy files\n",
    "#         os.remove('test_chess_game.yaml')\n",
    "#         os.remove('test_stockfish_handler.yaml')\n",
    "#         os.remove('test_viper.yaml')\n",
    "\n",
    "#     def test_chess_game_config_loading(self):\n",
    "#         config = load_config('test_chess_game.yaml') # Assuming load_config is defined\n",
    "#         self.assertEqual(config['game_mode'], 'ai_vs_ai')\n",
    "#         self.assertEqual(config['time_limit'], 60)\n",
    "\n",
    "#     def test_stockfish_config_loading(self):\n",
    "#         config = load_config('test_stockfish_handler.yaml')\n",
    "#         self.assertEqual(config['elo'], 1500)\n",
    "#         self.assertEqual(config['path'], '/usr/local/bin/stockfish')\n",
    "\n",
    "#     def test_viper_config_loading(self):\n",
    "#         config = load_config('test_viper.yaml')\n",
    "#         self.assertEqual(config['engine_name'], 'ViperEngine')\n",
    "#         self.assertEqual(config['version'], 1.0)\n",
    "\n",
    "# if __name__ == '__main__':\n",
    "#     unittest.main(argv=['first-arg-is-ignored'], exit=False)"
   ]
  },
  {
   "cell_type": "markdown",
   "metadata": {},
   "source": [
    "### Visuals/Diagrams (Optional for Configuration Phase)\n",
    "\n",
    "While less critical for pure configuration loading, this section could eventually house diagrams showing the configuration file structure or data flow."
   ]
  },
  {
   "cell_type": "code",
   "execution_count": null,
   "metadata": {},
   "outputs": [],
   "source": [
    "# Code Snippet: Visuals (e.g., Mermaid Diagram for YAML structure)\n",
    "# This could use libraries like matplotlib or seaborn for later phases to visualize metrics.\n",
    "# For configuration, a simple text-based diagram or a Mermaid diagram string could be placed here.\n",
    "\n",
    "# Example of a conceptual diagram (to be rendered externally or with a Mermaid extension):\n",
    "# ```mermaid\n",
    "# graph TD\n",
    "#     A[Main Application] --> B(Load chess_game.yaml)\n",
    "#     A --> C(Load stockfish_handler.yaml)\n",
    "#     A --> D(Load viper.yaml)\n",
    "#     B --> E{Game Settings}\n",
    "#     C --> F{Stockfish Settings}\n",
    "#     D --> G{Viper Engine Settings}\n",
    "# ```"
   ]
  }
 ],
 "metadata": {
  "language_info": {
   "name": "python"
  }
 },
 "nbformat": 4,
 "nbformat_minor": 5
}
